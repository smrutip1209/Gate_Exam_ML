{
  "nbformat": 4,
  "nbformat_minor": 0,
  "metadata": {
    "colab": {
      "provenance": []
    },
    "kernelspec": {
      "name": "python3",
      "display_name": "Python 3"
    },
    "language_info": {
      "name": "python"
    }
  },
  "cells": [
    {
      "cell_type": "code",
      "source": [
        "#Take the data and create a dataframe\n",
        "import pandas as pd\n",
        "df=pd.read_csv(\"https://raw.githubusercontent.com/MainakRepositor/Datasets/master/GATE%20Exams/gate_applicants.csv\")\n",
        "df"
      ],
      "metadata": {
        "colab": {
          "base_uri": "https://localhost:8080/",
          "height": 423
        },
        "id": "SbhXzdKXZo5S",
        "outputId": "6223c3d0-2497-4bcb-a833-b559fc65cdce"
      },
      "execution_count": null,
      "outputs": [
        {
          "output_type": "execute_result",
          "data": {
            "text/plain": [
              "    Unnamed: 0 Paper Code                             Paper Name  Applied  \\\n",
              "0            0         AE                  Aerospace Engineering     4639   \n",
              "1            1         AG               Agricultural Engineering     2088   \n",
              "2            2         AR              Architecture and Planning    11208   \n",
              "3            3         BT                          Biotechnology    11295   \n",
              "4            4         CE                      Civil Engineering   170999   \n",
              "..         ...        ...                                    ...      ...   \n",
              "65          65         PH                                Physics    12243   \n",
              "66          66         PI  Production and Industrial Engineering     4131   \n",
              "67          67         TF  Textile Engineering and Fibre Science     1587   \n",
              "68          68         XE                   Engineering Sciences     3722   \n",
              "69          69         XL                          Life Sciences    12791   \n",
              "\n",
              "    Appeared  Year  \n",
              "0       3697  2019  \n",
              "1       1848  2019  \n",
              "2       9105  2019  \n",
              "3       9348  2019  \n",
              "4     145064  2019  \n",
              "..       ...   ...  \n",
              "65      9910  2016  \n",
              "66      3378  2016  \n",
              "67      1406  2016  \n",
              "68      3074  2016  \n",
              "69     10298  2016  \n",
              "\n",
              "[70 rows x 6 columns]"
            ],
            "text/html": [
              "\n",
              "  <div id=\"df-9d28b8b3-b707-46ac-8065-06505de96a47\">\n",
              "    <div class=\"colab-df-container\">\n",
              "      <div>\n",
              "<style scoped>\n",
              "    .dataframe tbody tr th:only-of-type {\n",
              "        vertical-align: middle;\n",
              "    }\n",
              "\n",
              "    .dataframe tbody tr th {\n",
              "        vertical-align: top;\n",
              "    }\n",
              "\n",
              "    .dataframe thead th {\n",
              "        text-align: right;\n",
              "    }\n",
              "</style>\n",
              "<table border=\"1\" class=\"dataframe\">\n",
              "  <thead>\n",
              "    <tr style=\"text-align: right;\">\n",
              "      <th></th>\n",
              "      <th>Unnamed: 0</th>\n",
              "      <th>Paper Code</th>\n",
              "      <th>Paper Name</th>\n",
              "      <th>Applied</th>\n",
              "      <th>Appeared</th>\n",
              "      <th>Year</th>\n",
              "    </tr>\n",
              "  </thead>\n",
              "  <tbody>\n",
              "    <tr>\n",
              "      <th>0</th>\n",
              "      <td>0</td>\n",
              "      <td>AE</td>\n",
              "      <td>Aerospace Engineering</td>\n",
              "      <td>4639</td>\n",
              "      <td>3697</td>\n",
              "      <td>2019</td>\n",
              "    </tr>\n",
              "    <tr>\n",
              "      <th>1</th>\n",
              "      <td>1</td>\n",
              "      <td>AG</td>\n",
              "      <td>Agricultural Engineering</td>\n",
              "      <td>2088</td>\n",
              "      <td>1848</td>\n",
              "      <td>2019</td>\n",
              "    </tr>\n",
              "    <tr>\n",
              "      <th>2</th>\n",
              "      <td>2</td>\n",
              "      <td>AR</td>\n",
              "      <td>Architecture and Planning</td>\n",
              "      <td>11208</td>\n",
              "      <td>9105</td>\n",
              "      <td>2019</td>\n",
              "    </tr>\n",
              "    <tr>\n",
              "      <th>3</th>\n",
              "      <td>3</td>\n",
              "      <td>BT</td>\n",
              "      <td>Biotechnology</td>\n",
              "      <td>11295</td>\n",
              "      <td>9348</td>\n",
              "      <td>2019</td>\n",
              "    </tr>\n",
              "    <tr>\n",
              "      <th>4</th>\n",
              "      <td>4</td>\n",
              "      <td>CE</td>\n",
              "      <td>Civil Engineering</td>\n",
              "      <td>170999</td>\n",
              "      <td>145064</td>\n",
              "      <td>2019</td>\n",
              "    </tr>\n",
              "    <tr>\n",
              "      <th>...</th>\n",
              "      <td>...</td>\n",
              "      <td>...</td>\n",
              "      <td>...</td>\n",
              "      <td>...</td>\n",
              "      <td>...</td>\n",
              "      <td>...</td>\n",
              "    </tr>\n",
              "    <tr>\n",
              "      <th>65</th>\n",
              "      <td>65</td>\n",
              "      <td>PH</td>\n",
              "      <td>Physics</td>\n",
              "      <td>12243</td>\n",
              "      <td>9910</td>\n",
              "      <td>2016</td>\n",
              "    </tr>\n",
              "    <tr>\n",
              "      <th>66</th>\n",
              "      <td>66</td>\n",
              "      <td>PI</td>\n",
              "      <td>Production and Industrial Engineering</td>\n",
              "      <td>4131</td>\n",
              "      <td>3378</td>\n",
              "      <td>2016</td>\n",
              "    </tr>\n",
              "    <tr>\n",
              "      <th>67</th>\n",
              "      <td>67</td>\n",
              "      <td>TF</td>\n",
              "      <td>Textile Engineering and Fibre Science</td>\n",
              "      <td>1587</td>\n",
              "      <td>1406</td>\n",
              "      <td>2016</td>\n",
              "    </tr>\n",
              "    <tr>\n",
              "      <th>68</th>\n",
              "      <td>68</td>\n",
              "      <td>XE</td>\n",
              "      <td>Engineering Sciences</td>\n",
              "      <td>3722</td>\n",
              "      <td>3074</td>\n",
              "      <td>2016</td>\n",
              "    </tr>\n",
              "    <tr>\n",
              "      <th>69</th>\n",
              "      <td>69</td>\n",
              "      <td>XL</td>\n",
              "      <td>Life Sciences</td>\n",
              "      <td>12791</td>\n",
              "      <td>10298</td>\n",
              "      <td>2016</td>\n",
              "    </tr>\n",
              "  </tbody>\n",
              "</table>\n",
              "<p>70 rows × 6 columns</p>\n",
              "</div>\n",
              "      <button class=\"colab-df-convert\" onclick=\"convertToInteractive('df-9d28b8b3-b707-46ac-8065-06505de96a47')\"\n",
              "              title=\"Convert this dataframe to an interactive table.\"\n",
              "              style=\"display:none;\">\n",
              "        \n",
              "  <svg xmlns=\"http://www.w3.org/2000/svg\" height=\"24px\"viewBox=\"0 0 24 24\"\n",
              "       width=\"24px\">\n",
              "    <path d=\"M0 0h24v24H0V0z\" fill=\"none\"/>\n",
              "    <path d=\"M18.56 5.44l.94 2.06.94-2.06 2.06-.94-2.06-.94-.94-2.06-.94 2.06-2.06.94zm-11 1L8.5 8.5l.94-2.06 2.06-.94-2.06-.94L8.5 2.5l-.94 2.06-2.06.94zm10 10l.94 2.06.94-2.06 2.06-.94-2.06-.94-.94-2.06-.94 2.06-2.06.94z\"/><path d=\"M17.41 7.96l-1.37-1.37c-.4-.4-.92-.59-1.43-.59-.52 0-1.04.2-1.43.59L10.3 9.45l-7.72 7.72c-.78.78-.78 2.05 0 2.83L4 21.41c.39.39.9.59 1.41.59.51 0 1.02-.2 1.41-.59l7.78-7.78 2.81-2.81c.8-.78.8-2.07 0-2.86zM5.41 20L4 18.59l7.72-7.72 1.47 1.35L5.41 20z\"/>\n",
              "  </svg>\n",
              "      </button>\n",
              "      \n",
              "  <style>\n",
              "    .colab-df-container {\n",
              "      display:flex;\n",
              "      flex-wrap:wrap;\n",
              "      gap: 12px;\n",
              "    }\n",
              "\n",
              "    .colab-df-convert {\n",
              "      background-color: #E8F0FE;\n",
              "      border: none;\n",
              "      border-radius: 50%;\n",
              "      cursor: pointer;\n",
              "      display: none;\n",
              "      fill: #1967D2;\n",
              "      height: 32px;\n",
              "      padding: 0 0 0 0;\n",
              "      width: 32px;\n",
              "    }\n",
              "\n",
              "    .colab-df-convert:hover {\n",
              "      background-color: #E2EBFA;\n",
              "      box-shadow: 0px 1px 2px rgba(60, 64, 67, 0.3), 0px 1px 3px 1px rgba(60, 64, 67, 0.15);\n",
              "      fill: #174EA6;\n",
              "    }\n",
              "\n",
              "    [theme=dark] .colab-df-convert {\n",
              "      background-color: #3B4455;\n",
              "      fill: #D2E3FC;\n",
              "    }\n",
              "\n",
              "    [theme=dark] .colab-df-convert:hover {\n",
              "      background-color: #434B5C;\n",
              "      box-shadow: 0px 1px 3px 1px rgba(0, 0, 0, 0.15);\n",
              "      filter: drop-shadow(0px 1px 2px rgba(0, 0, 0, 0.3));\n",
              "      fill: #FFFFFF;\n",
              "    }\n",
              "  </style>\n",
              "\n",
              "      <script>\n",
              "        const buttonEl =\n",
              "          document.querySelector('#df-9d28b8b3-b707-46ac-8065-06505de96a47 button.colab-df-convert');\n",
              "        buttonEl.style.display =\n",
              "          google.colab.kernel.accessAllowed ? 'block' : 'none';\n",
              "\n",
              "        async function convertToInteractive(key) {\n",
              "          const element = document.querySelector('#df-9d28b8b3-b707-46ac-8065-06505de96a47');\n",
              "          const dataTable =\n",
              "            await google.colab.kernel.invokeFunction('convertToInteractive',\n",
              "                                                     [key], {});\n",
              "          if (!dataTable) return;\n",
              "\n",
              "          const docLinkHtml = 'Like what you see? Visit the ' +\n",
              "            '<a target=\"_blank\" href=https://colab.research.google.com/notebooks/data_table.ipynb>data table notebook</a>'\n",
              "            + ' to learn more about interactive tables.';\n",
              "          element.innerHTML = '';\n",
              "          dataTable['output_type'] = 'display_data';\n",
              "          await google.colab.output.renderOutput(dataTable, element);\n",
              "          const docLink = document.createElement('div');\n",
              "          docLink.innerHTML = docLinkHtml;\n",
              "          element.appendChild(docLink);\n",
              "        }\n",
              "      </script>\n",
              "    </div>\n",
              "  </div>\n",
              "  "
            ]
          },
          "metadata": {},
          "execution_count": 109
        }
      ]
    },
    {
      "cell_type": "code",
      "source": [
        "#Data visualization \n",
        "import matplotlib.pyplot as plt\n",
        "plt.scatter(df['Applied'],df['Appeared'])\n",
        "plt.title(\"GATE EXAM \")\n",
        "plt.xlabel(\"Applied \")\n",
        "plt.ylabel(\"Appeared\")\n"
      ],
      "metadata": {
        "colab": {
          "base_uri": "https://localhost:8080/",
          "height": 312
        },
        "id": "Nqk4pWp_caiq",
        "outputId": "3dc180b7-a842-4483-e2b4-9042ce1ab8cd"
      },
      "execution_count": null,
      "outputs": [
        {
          "output_type": "execute_result",
          "data": {
            "text/plain": [
              "Text(0, 0.5, 'Appeared')"
            ]
          },
          "metadata": {},
          "execution_count": 110
        },
        {
          "output_type": "display_data",
          "data": {
            "text/plain": [
              "<Figure size 432x288 with 1 Axes>"
            ],
            "image/png": "[encoded data removed]"
          },
          "metadata": {
            "needs_background": "light"
          }
        }
      ]
    },
    {
      "cell_type": "code",
      "source": [
        "# INPUT - Applied\n",
        "# OUTPUT - Appeared"
      ],
      "metadata": {
        "id": "no94FCzRa2nb"
      },
      "execution_count": null,
      "outputs": []
    },
    {
      "cell_type": "code",
      "source": [
        "# Divide the data into input(x) and output(y)\n",
        "# Slicing row and coloumn\n",
        "x=df.iloc[:,3:4].values\n",
        "print(x)\n",
        "y=df.iloc[:,4].values\n",
        "y"
      ],
      "metadata": {
        "colab": {
          "base_uri": "https://localhost:8080/"
        },
        "id": "JkBwyplUfr3W",
        "outputId": "263bc28c-564f-4c84-a6e5-84bb77b075ff"
      },
      "execution_count": null,
      "outputs": [
        {
          "output_type": "stream",
          "name": "stdout",
          "text": [
            "[[  4639]\n",
            " [  2088]\n",
            " [ 11208]\n",
            " [ 11295]\n",
            " [170999]\n",
            " [ 18783]\n",
            " [124984]\n",
            " [ 27800]\n",
            " [126148]\n",
            " [132294]\n",
            " [  1460]\n",
            " [  7100]\n",
            " [ 12289]\n",
            " [ 13415]\n",
            " [198841]\n",
            " [  3179]\n",
            " [  4456]\n",
            " [  2428]\n",
            " [ 20216]\n",
            " [  3503]\n",
            " [  1890]\n",
            " [  2093]\n",
            " [  4431]\n",
            " [ 22077]\n",
            " [  5335]\n",
            " [  1749]\n",
            " [  6661]\n",
            " [  9361]\n",
            " [147012]\n",
            " [ 17329]\n",
            " [116754]\n",
            " [ 18778]\n",
            " [171160]\n",
            " [135426]\n",
            " [   906]\n",
            " [  6444]\n",
            " [ 15570]\n",
            " [  8094]\n",
            " [217835]\n",
            " [  2426]\n",
            " [  4167]\n",
            " [  1964]\n",
            " [ 13442]\n",
            " [  3457]\n",
            " [  1658]\n",
            " [  3783]\n",
            " [ 12886]\n",
            " [  4418]\n",
            " [  1595]\n",
            " [  6806]\n",
            " [ 11161]\n",
            " [138147]\n",
            " [ 18642]\n",
            " [131803]\n",
            " [ 18434]\n",
            " [183152]\n",
            " [146293]\n",
            " [   981]\n",
            " [  6864]\n",
            " [ 18045]\n",
            " [  7917]\n",
            " [234727]\n",
            " [  2753]\n",
            " [  4475]\n",
            " [  2773]\n",
            " [ 12243]\n",
            " [  4131]\n",
            " [  1587]\n",
            " [  3722]\n",
            " [ 12791]]\n"
          ]
        },
        {
          "output_type": "execute_result",
          "data": {
            "text/plain": [
              "array([  3697,   1848,   9105,   9348, 145064,  15537,  99932,  21908,\n",
              "       104782, 112097,   1092,   5899,   9999,  10699, 167376,   2633,\n",
              "         3644,   2035,  16296,   2890,   1460,   1795,   3559,  17986,\n",
              "         4357,   1568,   5607,   7722, 129225,  14542,  96878,  15188,\n",
              "       141665, 117443,    719,   5537,  12858,   6608, 190648,   2129,\n",
              "         3494,   1622,  11190,   2915,   1453,   3169,  10611,   3770,\n",
              "         1424,   5812,   9124, 119873,  15495, 108495,  14966, 152318,\n",
              "       125859,    727,   5776,  14804,   6305, 197789,   2230,   3691,\n",
              "         2326,   9910,   3378,   1406,   3074,  10298])"
            ]
          },
          "metadata": {},
          "execution_count": 112
        }
      ]
    },
    {
      "cell_type": "code",
      "source": [
        "# Train and Test variables\n",
        "from sklearn.model_selection import train_test_split\n",
        "x_train,x_test,y_train,y_test = train_test_split(x,y, random_state = 0)"
      ],
      "metadata": {
        "id": "pyV5VhHj03TX"
      },
      "execution_count": null,
      "outputs": []
    },
    {
      "cell_type": "code",
      "source": [
        "print(x.shape)\n",
        "print(x_train.shape)\n",
        "print(x_test.shape)"
      ],
      "metadata": {
        "colab": {
          "base_uri": "https://localhost:8080/"
        },
        "id": "UevWdc1e2VNJ",
        "outputId": "13b2c48f-05ea-4800-8526-e90ed29f9838"
      },
      "execution_count": null,
      "outputs": [
        {
          "output_type": "stream",
          "name": "stdout",
          "text": [
            "(70, 1)\n",
            "(52, 1)\n",
            "(18, 1)\n"
          ]
        }
      ]
    },
    {
      "cell_type": "code",
      "source": [
        "print(y.shape)\n",
        "print(y_train.shape)\n",
        "print(y_test.shape) "
      ],
      "metadata": {
        "colab": {
          "base_uri": "https://localhost:8080/"
        },
        "id": "q4_FsKfv2pTn",
        "outputId": "e9067788-cd10-4ff4-c4f6-29afebb17e4c"
      },
      "execution_count": null,
      "outputs": [
        {
          "output_type": "stream",
          "name": "stdout",
          "text": [
            "(70,)\n",
            "(52,)\n",
            "(18,)\n"
          ]
        }
      ]
    },
    {
      "cell_type": "code",
      "source": [
        "# Run a classifier,regression or clustering\n",
        "from sklearn.linear_model import LinearRegression\n",
        "model = LinearRegression()"
      ],
      "metadata": {
        "id": "rVPMv5gSnVx7"
      },
      "execution_count": null,
      "outputs": []
    },
    {
      "cell_type": "code",
      "source": [
        "model.fit(x_train,y_train)"
      ],
      "metadata": {
        "colab": {
          "base_uri": "https://localhost:8080/",
          "height": 74
        },
        "id": "P6DMgcydsBRI",
        "outputId": "fde78d95-486d-43d8-e772-f900be15c9de"
      },
      "execution_count": null,
      "outputs": [
        {
          "output_type": "execute_result",
          "data": {
            "text/plain": [
              "LinearRegression()"
            ],
            "text/html": [
              "<style>#sk-container-id-7 {color: black;background-color: white;}#sk-container-id-7 pre{padding: 0;}#sk-container-id-7 div.sk-toggleable {background-color: white;}#sk-container-id-7 label.sk-toggleable__label {cursor: pointer;display: block;width: 100%;margin-bottom: 0;padding: 0.3em;box-sizing: border-box;text-align: center;}#sk-container-id-7 label.sk-toggleable__label-arrow:before {content: \"▸\";float: left;margin-right: 0.25em;color: #696969;}#sk-container-id-7 label.sk-toggleable__label-arrow:hover:before {color: black;}#sk-container-id-7 div.sk-estimator:hover label.sk-toggleable__label-arrow:before {color: black;}#sk-container-id-7 div.sk-toggleable__content {max-height: 0;max-width: 0;overflow: hidden;text-align: left;background-color: #f0f8ff;}#sk-container-id-7 div.sk-toggleable__content pre {margin: 0.2em;color: black;border-radius: 0.25em;background-color: #f0f8ff;}#sk-container-id-7 input.sk-toggleable__control:checked~div.sk-toggleable__content {max-height: 200px;max-width: 100%;overflow: auto;}#sk-container-id-7 input.sk-toggleable__control:checked~label.sk-toggleable__label-arrow:before {content: \"▾\";}#sk-container-id-7 div.sk-estimator input.sk-toggleable__control:checked~label.sk-toggleable__label {background-color: #d4ebff;}#sk-container-id-7 div.sk-label input.sk-toggleable__control:checked~label.sk-toggleable__label {background-color: #d4ebff;}#sk-container-id-7 input.sk-hidden--visually {border: 0;clip: rect(1px 1px 1px 1px);clip: rect(1px, 1px, 1px, 1px);height: 1px;margin: -1px;overflow: hidden;padding: 0;position: absolute;width: 1px;}#sk-container-id-7 div.sk-estimator {font-family: monospace;background-color: #f0f8ff;border: 1px dotted black;border-radius: 0.25em;box-sizing: border-box;margin-bottom: 0.5em;}#sk-container-id-7 div.sk-estimator:hover {background-color: #d4ebff;}#sk-container-id-7 div.sk-parallel-item::after {content: \"\";width: 100%;border-bottom: 1px solid gray;flex-grow: 1;}#sk-container-id-7 div.sk-label:hover label.sk-toggleable__label {background-color: #d4ebff;}#sk-container-id-7 div.sk-serial::before {content: \"\";position: absolute;border-left: 1px solid gray;box-sizing: border-box;top: 0;bottom: 0;left: 50%;z-index: 0;}#sk-container-id-7 div.sk-serial {display: flex;flex-direction: column;align-items: center;background-color: white;padding-right: 0.2em;padding-left: 0.2em;position: relative;}#sk-container-id-7 div.sk-item {position: relative;z-index: 1;}#sk-container-id-7 div.sk-parallel {display: flex;align-items: stretch;justify-content: center;background-color: white;position: relative;}#sk-container-id-7 div.sk-item::before, #sk-container-id-7 div.sk-parallel-item::before {content: \"\";position: absolute;border-left: 1px solid gray;box-sizing: border-box;top: 0;bottom: 0;left: 50%;z-index: -1;}#sk-container-id-7 div.sk-parallel-item {display: flex;flex-direction: column;z-index: 1;position: relative;background-color: white;}#sk-container-id-7 div.sk-parallel-item:first-child::after {align-self: flex-end;width: 50%;}#sk-container-id-7 div.sk-parallel-item:last-child::after {align-self: flex-start;width: 50%;}#sk-container-id-7 div.sk-parallel-item:only-child::after {width: 0;}#sk-container-id-7 div.sk-dashed-wrapped {border: 1px dashed gray;margin: 0 0.4em 0.5em 0.4em;box-sizing: border-box;padding-bottom: 0.4em;background-color: white;}#sk-container-id-7 div.sk-label label {font-family: monospace;font-weight: bold;display: inline-block;line-height: 1.2em;}#sk-container-id-7 div.sk-label-container {text-align: center;}#sk-container-id-7 div.sk-container {/* jupyter's `normalize.less` sets `[hidden] { display: none; }` but bootstrap.min.css set `[hidden] { display: none !important; }` so we also need the `!important` here to be able to override the default hidden behavior on the sphinx rendered scikit-learn.org. See: https://github.com/scikit-learn/scikit-learn/issues/21755 */display: inline-block !important;position: relative;}#sk-container-id-7 div.sk-text-repr-fallback {display: none;}</style><div id=\"sk-container-id-7\" class=\"sk-top-container\"><div class=\"sk-text-repr-fallback\"><pre>LinearRegression()</pre><b>In a Jupyter environment, please rerun this cell to show the HTML representation or trust the notebook. <br />On GitHub, the HTML representation is unable to render, please try loading this page with nbviewer.org.</b></div><div class=\"sk-container\" hidden><div class=\"sk-item\"><div class=\"sk-estimator sk-toggleable\"><input class=\"sk-toggleable__control sk-hidden--visually\" id=\"sk-estimator-id-7\" type=\"checkbox\" checked><label for=\"sk-estimator-id-7\" class=\"sk-toggleable__label sk-toggleable__label-arrow\">LinearRegression</label><div class=\"sk-toggleable__content\"><pre>LinearRegression()</pre></div></div></div></div></div>"
            ]
          },
          "metadata": {},
          "execution_count": 117
        }
      ]
    },
    {
      "cell_type": "code",
      "source": [
        "y_test"
      ],
      "metadata": {
        "colab": {
          "base_uri": "https://localhost:8080/"
        },
        "id": "iEhVt29hBPgZ",
        "outputId": "d224aa63-d0ca-4a66-bb1b-7e4b0538c156"
      },
      "execution_count": null,
      "outputs": [
        {
          "output_type": "execute_result",
          "data": {
            "text/plain": [
              "array([  5607,   7722,   1424,   3559,  96878, 119873,  21908,  14804,\n",
              "          719,  10298, 125859, 129225,  15188,  11190, 117443, 152318,\n",
              "         3074,   2230])"
            ]
          },
          "metadata": {},
          "execution_count": 135
        }
      ]
    },
    {
      "cell_type": "code",
      "source": [
        "# Predicting the output\n",
        "y_pred = model.predict(x_test)\n",
        "y_pred"
      ],
      "metadata": {
        "colab": {
          "base_uri": "https://localhost:8080/"
        },
        "id": "buOA5BPou5_g",
        "outputId": "e2137192-01fd-404f-9f63-27494c21139a"
      },
      "execution_count": null,
      "outputs": [
        {
          "output_type": "execute_result",
          "data": {
            "text/plain": [
              "array([  5370.15622588,   7650.21335036,   1092.09348786,   3486.99793417,\n",
              "        98339.90770959, 116405.56032593,  23221.3145794 ,  14983.55263519,\n",
              "          510.25668831,  10546.73036406, 123284.57711706, 123891.74788466,\n",
              "        15602.54592121,  11096.47747074, 114107.76942381, 154410.7347287 ,\n",
              "         2888.27182259,   2069.98465458])"
            ]
          },
          "metadata": {},
          "execution_count": 118
        }
      ]
    },
    {
      "cell_type": "code",
      "source": [
        "from sklearn import metrics\n",
        "metrics.mean_absolute_error(y_test, y_pred)"
      ],
      "metadata": {
        "colab": {
          "base_uri": "https://localhost:8080/"
        },
        "id": "3--JVP32AP2q",
        "outputId": "430e6090-c5e5-4431-f982-e676cad8faff"
      },
      "execution_count": null,
      "outputs": [
        {
          "output_type": "execute_result",
          "data": {
            "text/plain": [
              "1210.093308454491"
            ]
          },
          "metadata": {},
          "execution_count": 134
        }
      ]
    },
    {
      "cell_type": "code",
      "source": [
        "model.predict([[4639]])"
      ],
      "metadata": {
        "colab": {
          "base_uri": "https://localhost:8080/"
        },
        "id": "leG1xcOQvc-K",
        "outputId": "1ebd65b7-9a60-473c-85bf-4b32bed6d100"
      },
      "execution_count": null,
      "outputs": [
        {
          "output_type": "execute_result",
          "data": {
            "text/plain": [
              "array([3662.64677932])"
            ]
          },
          "metadata": {},
          "execution_count": 122
        }
      ]
    },
    {
      "cell_type": "code",
      "source": [
        "m = model.coef_\n",
        "m"
      ],
      "metadata": {
        "colab": {
          "base_uri": "https://localhost:8080/"
        },
        "id": "g42gqBdlxJg2",
        "outputId": "449324de-e17e-4d18-e622-97ddf1827ae1"
      },
      "execution_count": null,
      "outputs": [
        {
          "output_type": "execute_result",
          "data": {
            "text/plain": [
              "array([0.8444656])"
            ]
          },
          "metadata": {},
          "execution_count": 123
        }
      ]
    },
    {
      "cell_type": "code",
      "source": [
        "c = model.intercept_\n",
        "c"
      ],
      "metadata": {
        "colab": {
          "base_uri": "https://localhost:8080/"
        },
        "id": "Th6_OKQoxYLV",
        "outputId": "99a1a023-27b6-4594-bd8f-14645785020e"
      },
      "execution_count": null,
      "outputs": [
        {
          "output_type": "execute_result",
          "data": {
            "text/plain": [
              "-254.82914679050373"
            ]
          },
          "metadata": {},
          "execution_count": 124
        }
      ]
    },
    {
      "cell_type": "code",
      "source": [
        "m*4639 + c"
      ],
      "metadata": {
        "colab": {
          "base_uri": "https://localhost:8080/"
        },
        "id": "CO43UVL8xg5N",
        "outputId": "21b298f1-5004-45e3-8875-ea42ef3e9414"
      },
      "execution_count": null,
      "outputs": [
        {
          "output_type": "execute_result",
          "data": {
            "text/plain": [
              "array([3662.64677932])"
            ]
          },
          "metadata": {},
          "execution_count": 125
        }
      ]
    },
    {
      "cell_type": "markdown",
      "source": [],
      "metadata": {
        "id": "po3JYIl6Hlkv"
      }
    },
    {
      "cell_type": "code",
      "source": [
        "plt.figure(figsize=(18,6))\n",
        "preds = plt.scatter(x_test,y_pred,color = \"green\") \n",
        "accurs = plt.scatter(x_test,y_test,color = \"red\")\n",
        "plt.legend((preds, accurs),(\"Predicted Values\", \"Actual Values\"))\n",
        "plt.title(\"BEST FIT MODEL\")"
      ],
      "metadata": {
        "colab": {
          "base_uri": "https://localhost:8080/",
          "height": 407
        },
        "id": "Aq5ScqDPywq7",
        "outputId": "9466edf4-81f1-4a29-a892-c9e9f8d2cb78"
      },
      "execution_count": null,
      "outputs": [
        {
          "output_type": "execute_result",
          "data": {
            "text/plain": [
              "Text(0.5, 1.0, 'BEST FIT MODEL')"
            ]
          },
          "metadata": {},
          "execution_count": 146
        },
        {
          "output_type": "display_data",
          "data": {
            "text/plain": [
              "<Figure size 1296x432 with 1 Axes>"
            ],
            "image/png": "[encoded data removed]"
          },
          "metadata": {
            "needs_background": "light"
          }
        }
      ]
    }
  ]
}